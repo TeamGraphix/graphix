{
 "cells": [
  {
   "cell_type": "code",
   "execution_count": 1,
   "metadata": {},
   "outputs": [],
   "source": [
    "import graphix \n",
    "import numpy as np\n",
    "from graphix import Circuit\n",
    "import networkx as nx\n",
    "import matplotlib.pyplot as plt\n",
    "from graphix.gflow import flow \n",
    "from graphix.pattern import *\n",
    "\n",
    "\n",
    "\n",
    "import sympy as sp \n"
   ]
  },
  {
   "attachments": {},
   "cell_type": "markdown",
   "metadata": {},
   "source": [
    "### New Parameter Class "
   ]
  },
  {
   "cell_type": "code",
   "execution_count": 2,
   "metadata": {},
   "outputs": [],
   "source": [
    "from graphix.parameter import Parameter"
   ]
  },
  {
   "attachments": {},
   "cell_type": "markdown",
   "metadata": {},
   "source": [
    "##### Example"
   ]
  },
  {
   "cell_type": "code",
   "execution_count": 3,
   "metadata": {},
   "outputs": [
    {
     "data": {
      "text/plain": [
       "expr = th "
      ]
     },
     "execution_count": 3,
     "metadata": {},
     "output_type": "execute_result"
    }
   ],
   "source": [
    "th = Parameter('th');\n",
    "th"
   ]
  },
  {
   "cell_type": "code",
   "execution_count": 4,
   "metadata": {},
   "outputs": [
    {
     "data": {
      "text/plain": [
       "expr = sin(th/3) "
      ]
     },
     "execution_count": 4,
     "metadata": {},
     "output_type": "execute_result"
    }
   ],
   "source": [
    "np.sin(th/3)"
   ]
  },
  {
   "cell_type": "code",
   "execution_count": 5,
   "metadata": {},
   "outputs": [
    {
     "data": {
      "text/plain": [
       "expr = sin(th/3), assignment = [ th : 0.3 ]"
      ]
     },
     "execution_count": 5,
     "metadata": {},
     "output_type": "execute_result"
    }
   ],
   "source": [
    "th.bind({th:0.3})"
   ]
  },
  {
   "cell_type": "code",
   "execution_count": 6,
   "metadata": {},
   "outputs": [
    {
     "data": {
      "text/plain": [
       "0.09983341664682814"
      ]
     },
     "execution_count": 6,
     "metadata": {},
     "output_type": "execute_result"
    }
   ],
   "source": [
    "th.value "
   ]
  },
  {
   "attachments": {},
   "cell_type": "markdown",
   "metadata": {},
   "source": [
    "##### Issues"
   ]
  },
  {
   "cell_type": "code",
   "execution_count": 7,
   "metadata": {},
   "outputs": [],
   "source": [
    "mu = Parameter('mu')\n",
    "gu = Parameter('gu')\n"
   ]
  },
  {
   "cell_type": "code",
   "execution_count": 8,
   "metadata": {},
   "outputs": [],
   "source": [
    "## uncomment the line below to check issues regarding interaction of multiple instances of Parameter class\n",
    "\n",
    "# gu + mu"
   ]
  },
  {
   "attachments": {},
   "cell_type": "markdown",
   "metadata": {},
   "source": [
    "### Compatibility Illustration"
   ]
  },
  {
   "cell_type": "code",
   "execution_count": 9,
   "metadata": {},
   "outputs": [],
   "source": [
    "## helper \n",
    "\n",
    "\n",
    "def process_layer_data(graph: nx.Graph, layer_map: dict):\n",
    "\n",
    "    node_attributes = {}; max_l = max(set(layer_map.values()))\n",
    "    layer_data = {n: set() for n in range(max_l +1 )}\n",
    "\n",
    "    for v in graph.nodes():\n",
    "        # print(v); print(layer_data[v])\n",
    "        node_attributes[v] = {\"layer\" : layer_map[v]}\n",
    "        layer_data[layer_map[v]].add(v)\n",
    "\n",
    "    return {'attribute_data' : node_attributes, 'nodes_in_layers': layer_data, 'num_layers' : max_l  }\n",
    "\n",
    "\n",
    "def get_nx_graph(pattern: graphix.Pattern):\n",
    "    nodes, edges = pattern.get_graph()\n",
    "    g = nx.Graph()\n",
    "    g.add_nodes_from(nodes)\n",
    "    g.add_edges_from(edges)\n",
    "\n",
    "    return g\n",
    "\n",
    "def get_pos(pattern: graphix.Pattern, f:dict):\n",
    "\n",
    "    num_output_nodes = len(pattern.output_nodes)\n",
    "    flow = [[i] for i in range(num_output_nodes)]\n",
    "    for i in range(num_output_nodes):\n",
    "        contd = True\n",
    "        val = i\n",
    "        while contd:\n",
    "            try:\n",
    "                val = f[val]\n",
    "                flow[i].append(val)\n",
    "            except KeyError:\n",
    "                contd = False\n",
    "    longest = np.max([len(flow[i]) for i in range(num_output_nodes)])\n",
    "\n",
    "    pos = dict()\n",
    "    for i in range(num_output_nodes):\n",
    "        length = len(flow[i])\n",
    "        fac = longest / (length - 1)\n",
    "        for j in range(len(flow[i])):\n",
    "            pos[flow[i][j]] = (fac * j, -i)\n",
    "    \n",
    "    return pos, longest\n",
    "\n",
    "# determine wheher or not a node will be measured in Pauli basis\n",
    "def get_clr_list(pattern):\n",
    "    nodes, edges = pattern.get_graph()\n",
    "    meas_list = pattern.get_measurement_commands()\n",
    "    g = get_nx_graph(pattern)\n",
    "    clr_list = []\n",
    "    for i in g.nodes:\n",
    "        for cmd in meas_list:\n",
    "            if cmd[1] == i:\n",
    "                if cmd[3] in [-1, -0.5, 0, 0.5, 1]:\n",
    "                    clr_list.append([0.5, 0.5, 0.5])\n",
    "                else:\n",
    "                    clr_list.append([1, 1, 1])\n",
    "        if i in pattern.output_nodes:\n",
    "            clr_list.append([0.8, 0.8, 0.8])\n",
    "    return clr_list\n",
    "\n",
    "def pretty_plot_pattern(pattern: graphix.Pattern, input_nodes : set):\n",
    "\n",
    "    clr_list = get_clr_list(pattern)\n",
    "    g = get_nx_graph(pattern)\n",
    "    f, l_k = flow(g, input_nodes, set(pattern.output_nodes))\n",
    "    \n",
    "    assert isinstance(f, dict)\n",
    "    pos, length = get_pos(pattern, f) ; layer_data = process_layer_data(g, l_k)\n",
    "    \n",
    "    nx.set_node_attributes(g, layer_data['attribute_data'])\n",
    "\n",
    "    graph_params = {\"with_labels\": True, \"node_size\": 600, \"node_color\": 'w', \"edgecolors\": \"k\"}\n",
    "    pos = nx.multipartite_layout(g, subset_key= 'layer', align='vertical', scale= 100)\n",
    "\n",
    "    plt.figure(figsize=(25,16))\n",
    "\n",
    "    for layer in range(layer_data['num_layers']):   \n",
    "        vertx_1 = next(iter(layer_data['nodes_in_layers'][layer])); xcoord_1 = pos[vertx_1][0]\n",
    "        vertx_2 = next(iter(layer_data['nodes_in_layers'][layer + 1])); xcoord_2 = pos[vertx_2][0]\n",
    "        xcoord = np.mean([xcoord_1, xcoord_2])\n",
    "        plt.axvline(xcoord)\n",
    "        plt.text(x= xcoord + 1.5, y= -18, s= 'l= ' + str(layer) )\n",
    "\n",
    "    edge_color= []\n",
    "    for u,v in g.edges():\n",
    "        if( u not in pattern.output_nodes and v not in pattern.output_nodes ) :\n",
    "            # print (u,v, u==f[v] or v== f[u])\n",
    "            if u==f[v] or v== f[u] :\n",
    "                edge_color.append('r')\n",
    "            else :\n",
    "                edge_color.append('g')\n",
    "\n",
    "\n",
    "    nx.draw_networkx(g, pos= pos, **graph_params, edge_color = edge_color)\n",
    "\n",
    "    \n",
    "    \n",
    "\n",
    "            "
   ]
  },
  {
   "attachments": {},
   "cell_type": "markdown",
   "metadata": {},
   "source": [
    "#### Variational Ansatz"
   ]
  },
  {
   "cell_type": "code",
   "execution_count": 10,
   "metadata": {},
   "outputs": [],
   "source": [
    "def build_basic_ansatz(n: int, layers: int, params: list ):\n",
    "\n",
    "    assert len(params) == n * layers ## checks\n",
    "\n",
    "    c = Circuit(n)\n",
    "    for l in range(layers):\n",
    "        \n",
    "        for i in range(n): ## circular entangelemnt \n",
    "            c.cnot(i %n,(i+1)%n)\n",
    "\n",
    "        for i in range(n): ## paramterised rx rotations \n",
    "            c.rx(i, params[ n*l + i]) \n",
    "\n",
    "    return c"
   ]
  },
  {
   "cell_type": "code",
   "execution_count": 11,
   "metadata": {},
   "outputs": [],
   "source": [
    "## generate random circuit \n",
    "n = 2\n",
    "# params = ParameterVector(name= 'p', length= n * 1)\n",
    "params = [ Parameter('th1'), Parameter('th2')]\n",
    "crc2 = build_basic_ansatz(n, 1, params= params )"
   ]
  },
  {
   "cell_type": "code",
   "execution_count": 12,
   "metadata": {},
   "outputs": [
    {
     "data": {
      "text/plain": [
       "[['CNOT', [0, 1]],\n",
       " ['CNOT', [1, 0]],\n",
       " ['Rx', 0, expr = 1.0*th1 ],\n",
       " ['Rx', 1, expr = 1.0*th2 ]]"
      ]
     },
     "execution_count": 12,
     "metadata": {},
     "output_type": "execute_result"
    }
   ],
   "source": [
    "## check circuit params\n",
    "crc2.instruction"
   ]
  },
  {
   "cell_type": "code",
   "execution_count": 13,
   "metadata": {},
   "outputs": [
    {
     "data": {
      "text/plain": [
       "(True, 2, {th1, th2})"
      ]
     },
     "execution_count": 13,
     "metadata": {},
     "output_type": "execute_result"
    }
   ],
   "source": [
    "## inspect attribriutes\n",
    "crc2.is_parameterized, crc2.num_parameterized_gates, crc2.parameters"
   ]
  },
  {
   "cell_type": "code",
   "execution_count": 14,
   "metadata": {},
   "outputs": [],
   "source": [
    "## dictionary of asssignments \n",
    "param_assignments = { params[i]: np.random.random() for i in range(len(params))}"
   ]
  },
  {
   "cell_type": "code",
   "execution_count": 15,
   "metadata": {},
   "outputs": [],
   "source": [
    "crc2_copy = deepcopy(crc2)"
   ]
  },
  {
   "cell_type": "code",
   "execution_count": 16,
   "metadata": {},
   "outputs": [
    {
     "name": "stdout",
     "output_type": "stream",
     "text": [
      "['Rx', 0, 0.4307656354946672]\n",
      "['Rx', 1, 0.8754031042476935]\n",
      "all parameter values assigned\n"
     ]
    }
   ],
   "source": [
    "## assign parameters to circuit\n",
    "crc2.assign_parameters(parameter_assignment= param_assignments, inplace=True, verbose= True )"
   ]
  },
  {
   "cell_type": "code",
   "execution_count": 17,
   "metadata": {},
   "outputs": [
    {
     "data": {
      "text/plain": [
       "[['CNOT', [0, 1]],\n",
       " ['CNOT', [1, 0]],\n",
       " ['Rx', 0, 0.4307656354946672],\n",
       " ['Rx', 1, 0.8754031042476935]]"
      ]
     },
     "execution_count": 17,
     "metadata": {},
     "output_type": "execute_result"
    }
   ],
   "source": [
    "crc2.instruction"
   ]
  },
  {
   "cell_type": "code",
   "execution_count": 18,
   "metadata": {},
   "outputs": [
    {
     "data": {
      "text/plain": [
       "array([[0.3971067-0.30381947j, 0.3971067-0.30381947j],\n",
       "       [0.3971067-0.30381947j, 0.3971067-0.30381947j]])"
      ]
     },
     "execution_count": 18,
     "metadata": {},
     "output_type": "execute_result"
    }
   ],
   "source": [
    "## statevector simulation \n",
    "st = crc2.simulate_statevector()\n",
    "st.psi"
   ]
  },
  {
   "cell_type": "code",
   "execution_count": 19,
   "metadata": {},
   "outputs": [
    {
     "data": {
      "text/plain": [
       "[['M', 1, 'XY', 0, [], []],\n",
       " ['M', 2, 'XY', 0, [], []],\n",
       " ['M', 0, 'XY', 0, [], []],\n",
       " ['M', 4, 'XY', 0, [], []],\n",
       " ['M', 5, 'XY', 0, [], []],\n",
       " ['M', 6, 'XY', expr = -0.318309886183791*th1 , [5, 0, 1], []],\n",
       " ['M', 3, 'XY', 0, [], []],\n",
       " ['M', 8, 'XY', expr = -0.318309886183791*th2 , [3, 0, 1, 1], []]]"
      ]
     },
     "execution_count": 19,
     "metadata": {},
     "output_type": "execute_result"
    }
   ],
   "source": [
    "## generate pattern\n",
    "ptrn2 = crc2_copy.standardize_and_transpile(opt=True)\n",
    "ptrn2.get_measurement_commands()"
   ]
  },
  {
   "cell_type": "code",
   "execution_count": 20,
   "metadata": {},
   "outputs": [
    {
     "data": {
      "image/png": "[encoded data removed]",
      "text/plain": [
       "<Figure size 2500x1600 with 1 Axes>"
      ]
     },
     "metadata": {},
     "output_type": "display_data"
    }
   ],
   "source": [
    "pretty_plot_pattern(ptrn2, {0,1})"
   ]
  },
  {
   "cell_type": "code",
   "execution_count": 21,
   "metadata": {},
   "outputs": [],
   "source": [
    "## check pauli nodes\n",
    "a, b = pauli_nodes(ptrn2)"
   ]
  },
  {
   "cell_type": "code",
   "execution_count": 22,
   "metadata": {},
   "outputs": [
    {
     "data": {
      "text/plain": [
       "[['M', 1, 'XY', 0, [], []],\n",
       " ['M', 2, 'XY', 0, [], []],\n",
       " ['M', 0, 'XY', 0, [], []],\n",
       " ['M', 4, 'XY', 0, [], []],\n",
       " ['M', 5, 'XY', 0, [], []],\n",
       " ['M', 3, 'XY', 0, [], []]]"
      ]
     },
     "execution_count": 22,
     "metadata": {},
     "output_type": "execute_result"
    }
   ],
   "source": [
    "a"
   ]
  },
  {
   "cell_type": "code",
   "execution_count": 23,
   "metadata": {},
   "outputs": [
    {
     "data": {
      "text/plain": [
       "[['M', 6, 'XY', expr = -0.318309886183791*th1 , [5, 0, 1], []],\n",
       " ['M', 8, 'XY', expr = -0.318309886183791*th2 , [3, 0, 1, 1], []]]"
      ]
     },
     "execution_count": 23,
     "metadata": {},
     "output_type": "execute_result"
    }
   ],
   "source": [
    "b"
   ]
  },
  {
   "cell_type": "code",
   "execution_count": 24,
   "metadata": {},
   "outputs": [
    {
     "data": {
      "text/plain": [
       "(True,\n",
       " {th1, th2},\n",
       " [{6: expr = -0.318309886183791*th1 }, {8: expr = -0.318309886183791*th2 }])"
      ]
     },
     "execution_count": 24,
     "metadata": {},
     "output_type": "execute_result"
    }
   ],
   "source": [
    "## check attribrutes\n",
    "ptrn2.is_parameterized, ptrn2.parameters, ptrn2.parameterized_commands"
   ]
  },
  {
   "cell_type": "code",
   "execution_count": 25,
   "metadata": {},
   "outputs": [
    {
     "name": "stdout",
     "output_type": "stream",
     "text": [
      "all parameter values assigned\n"
     ]
    }
   ],
   "source": [
    "## assign parameters \n",
    "ptrn2.assign_parameters(parameter_assignment= param_assignments, inplace= True)"
   ]
  },
  {
   "cell_type": "code",
   "execution_count": 26,
   "metadata": {},
   "outputs": [
    {
     "data": {
      "text/plain": [
       "([], set())"
      ]
     },
     "execution_count": 26,
     "metadata": {},
     "output_type": "execute_result"
    }
   ],
   "source": [
    "ptrn2.parameterized_commands, ptrn2.parameters"
   ]
  },
  {
   "cell_type": "code",
   "execution_count": 27,
   "metadata": {},
   "outputs": [
    {
     "data": {
      "text/plain": [
       "[['M', 1, 'XY', 0, [], []],\n",
       " ['M', 2, 'XY', 0, [], []],\n",
       " ['M', 0, 'XY', 0, [], []],\n",
       " ['M', 4, 'XY', 0, [], []],\n",
       " ['M', 5, 'XY', 0, [], []],\n",
       " ['M', 6, 'XY', -0.13711696040619578, [5, 0, 1], []],\n",
       " ['M', 3, 'XY', 0, [], []],\n",
       " ['M', 8, 'XY', -0.27864946247802036, [3, 0, 1, 1], []]]"
      ]
     },
     "execution_count": 27,
     "metadata": {},
     "output_type": "execute_result"
    }
   ],
   "source": [
    "# assign_params_in_pattern(ptrn2, param_assignments)\n",
    "ptrn2.get_measurement_commands()"
   ]
  },
  {
   "cell_type": "code",
   "execution_count": 28,
   "metadata": {},
   "outputs": [
    {
     "data": {
      "text/plain": [
       "Statevec, data=[[[[0.25+0.j 0.25+0.j]\n",
       "   [0.25+0.j 0.25+0.j]]\n",
       "\n",
       "  [[0.25+0.j 0.25+0.j]\n",
       "   [0.25+0.j 0.25+0.j]]]\n",
       "\n",
       "\n",
       " [[[0.25+0.j 0.25+0.j]\n",
       "   [0.25+0.j 0.25+0.j]]\n",
       "\n",
       "  [[0.25+0.j 0.25+0.j]\n",
       "   [0.25+0.j 0.25+0.j]]]], shape=(2, 2, 2, 2)"
      ]
     },
     "execution_count": 28,
     "metadata": {},
     "output_type": "execute_result"
    }
   ],
   "source": [
    "ptrn2.simulate_pattern()"
   ]
  },
  {
   "cell_type": "code",
   "execution_count": null,
   "metadata": {},
   "outputs": [],
   "source": []
  }
 ],
 "metadata": {
  "kernelspec": {
   "display_name": "Python 3",
   "language": "python",
   "name": "python3"
  },
  "language_info": {
   "codemirror_mode": {
    "name": "ipython",
    "version": 3
   },
   "file_extension": ".py",
   "mimetype": "text/x-python",
   "name": "python",
   "nbconvert_exporter": "python",
   "pygments_lexer": "ipython3",
   "version": "3.10.6"
  },
  "orig_nbformat": 4
 },
 "nbformat": 4,
 "nbformat_minor": 2
}
